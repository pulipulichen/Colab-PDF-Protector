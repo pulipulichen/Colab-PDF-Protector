{
  "cells": [
    {
      "cell_type": "markdown",
      "metadata": {
        "id": "view-in-github",
        "colab_type": "text"
      },
      "source": [
        "<a href=\"https://colab.research.google.com/github/pulipulichen/Colab-PDF-Protector/blob/main/Colab_PDF_Protector.ipynb\" target=\"_parent\"><img src=\"https://colab.research.google.com/assets/colab-badge.svg\" alt=\"Open In Colab\"/></a>"
      ]
    },
    {
      "cell_type": "markdown",
      "source": [
        "# Colab-PDF-Protector"
      ],
      "metadata": {
        "id": "MiQ_QXztOH0l"
      }
    },
    {
      "cell_type": "code",
      "execution_count": 23,
      "metadata": {
        "id": "FEepKH_9FC76"
      },
      "outputs": [],
      "source": [
        "OPEN_PASSWORD = \"open_password\" # @param {\"type\":\"string\"}\n",
        "EDIT_PASSWORD = \"edit_password\" # @param {\"type\":\"string\"}\n",
        "PDF_ACTION = \"Decrypt\" # @param [\"Encrypt\",\"Decrypt\"]\n"
      ]
    },
    {
      "cell_type": "code",
      "source": [
        "# Step 1: Install QPDF\n",
        "!apt-get install -y qpdf\n"
      ],
      "metadata": {
        "id": "Ng52uW_nPmPX"
      },
      "execution_count": null,
      "outputs": []
    },
    {
      "cell_type": "code",
      "source": [
        "\n",
        "import os\n",
        "\n",
        "# Step 2: Create an output directory\n",
        "output_dir = \"/content/output\"\n",
        "os.makedirs(output_dir, exist_ok=True)\n",
        "\n",
        "# Step 3: Unlock PDFs in the /content/ directory\n",
        "input_dir = \"/content/\"\n",
        "for file_name in os.listdir(input_dir):\n",
        "    if file_name.endswith(\".pdf\"):\n",
        "        input_path = os.path.join(input_dir, file_name)\n",
        "        output_path = os.path.join(output_dir, f\"{file_name[:-4]}_unlock.pdf\")\n",
        "\n",
        "        # Run QPDF command to unlock PDF\n",
        "        if PDF_ACTION == \"Decrypt\":\n",
        "          !qpdf --decrypt --password=\"{OPEN_PASSWORD}\" \"{input_path}\" \"{output_path}\"\n",
        "        else:\n",
        "          output_path = os.path.join(output_dir, f\"{file_name[:-4]}_lock.pdf\")\n",
        "          !qpdf --encrypt \"{OPEN_PASSWORD}\" \"{EDIT_PASSWORD}\" 256 -extract=n -modify=none -annotate=n -- \"{input_path}\" \"{output_path}\"\n",
        "        print(f\"Processed: {file_name} -> {output_path}\")\n",
        "\n",
        "print(\"All PDFs have been processed. Check the /content/output directory.\")\n"
      ],
      "metadata": {
        "colab": {
          "base_uri": "https://localhost:8080/"
        },
        "id": "j2GtOANcOLD9",
        "outputId": "78bf9547-68e8-49a5-fc85-c056bad1db59"
      },
      "execution_count": 24,
      "outputs": [
        {
          "output_type": "stream",
          "name": "stdout",
          "text": [
            "Processed: 2023.02.12 模型架構圖+FSB關鍵字抽取 a-clean.pdf -> /content/output/2023.02.12 模型架構圖+FSB關鍵字抽取 a-clean_lock.pdf\n",
            "All PDFs have been processed. Check the /content/output directory.\n"
          ]
        }
      ]
    }
  ],
  "metadata": {
    "colab": {
      "provenance": [],
      "authorship_tag": "ABX9TyM2mdf/aBls5ixO53eMGqrv",
      "include_colab_link": true
    },
    "kernelspec": {
      "display_name": "Python 3",
      "name": "python3"
    },
    "language_info": {
      "name": "python"
    }
  },
  "nbformat": 4,
  "nbformat_minor": 0
}