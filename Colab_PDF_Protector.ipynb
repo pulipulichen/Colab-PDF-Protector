{
  "cells": [
    {
      "cell_type": "markdown",
      "metadata": {
        "id": "view-in-github",
        "colab_type": "text"
      },
      "source": [
        "<a href=\"https://colab.research.google.com/github/pulipulichen/Colab-PDF-Protector/blob/main/Colab_PDF_Protector.ipynb\" target=\"_parent\"><img src=\"https://colab.research.google.com/assets/colab-badge.svg\" alt=\"Open In Colab\"/></a>"
      ]
    },
    {
      "cell_type": "markdown",
      "source": [
        "# Colab-PDF-Protector"
      ],
      "metadata": {
        "id": "MiQ_QXztOH0l"
      }
    },
    {
      "cell_type": "code",
      "execution_count": null,
      "metadata": {
        "id": "FEepKH_9FC76"
      },
      "outputs": [],
      "source": [
        "PDF_PASSWORD = \"password\" # @param {\"type\":\"string\"}\n",
        "PDF_ACTION = \"Encrypt\" # @param [\"Encrypt\",\"Decrypt\"]\n"
      ]
    },
    {
      "cell_type": "code",
      "source": [
        "# Step 1: Install QPDF\n",
        "!apt-get install -y qpdf\n",
        "\n",
        "import os\n",
        "\n",
        "# Step 2: Create an output directory\n",
        "output_dir = \"/content/output\"\n",
        "os.makedirs(output_dir, exist_ok=True)\n",
        "\n",
        "# Step 3: Set the password\n",
        "password = PDF_PASSWORD\n",
        "\n",
        "# Step 4: Unlock PDFs in the /content/ directory\n",
        "input_dir = \"/content/\"\n",
        "for file_name in os.listdir(input_dir):\n",
        "    if file_name.endswith(\".pdf\"):\n",
        "        input_path = os.path.join(input_dir, file_name)\n",
        "        output_path = os.path.join(output_dir, f\"{file_name[:-4]}_unlock.pdf\")\n",
        "\n",
        "        # Run QPDF command to unlock PDF\n",
        "        if PDF_ACTION == \"Decrypt\":\n",
        "          !qpdf --decrypt --password=\"{password}\" \"{input_path}\" \"{output_path}\"\n",
        "        else:\n",
        "          output_path = os.path.join(output_dir, f\"{file_name[:-4]}_lock.pdf\")\n",
        "          !qpdf --encrypt \"{password}\" \"{password}\" 256 --restrict printing=none copy=false --input \"{input_path}\" --output \"{output_path}\"\n",
        "        print(f\"Processed: {file_name} -> {output_path}\")\n",
        "\n",
        "print(\"All PDFs have been processed. Check the /content/output directory.\")\n"
      ],
      "metadata": {
        "id": "j2GtOANcOLD9"
      },
      "execution_count": null,
      "outputs": []
    }
  ],
  "metadata": {
    "colab": {
      "provenance": [],
      "authorship_tag": "ABX9TyMJmA9q/TkyTcNeoG/mEi+p",
      "include_colab_link": true
    },
    "kernelspec": {
      "display_name": "Python 3",
      "name": "python3"
    },
    "language_info": {
      "name": "python"
    }
  },
  "nbformat": 4,
  "nbformat_minor": 0
}